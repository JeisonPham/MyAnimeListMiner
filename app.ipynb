{
 "cells": [
  {
   "cell_type": "code",
   "execution_count": 5,
   "metadata": {},
   "outputs": [],
   "source": [
    "import json\n",
    "import requests\n",
    "import time\n",
    "\n",
    "time.sleep(30)\n",
    "\n",
    "header = ['Title','type','genre','duration','source','producers','studios','score']"
   ]
  },
  {
   "cell_type": "code",
   "execution_count": 6,
   "metadata": {},
   "outputs": [],
   "source": [
    "import pygsheets\n",
    "#authorization\n",
    "gc = pygsheets.authorize(service_file='client_secret.json')\n",
    "\n",
    "#open the google spreadsheet (where 'PY to Gsheet Test' is the name of my sheet)\n",
    "sh = gc.open('Myanimelist')\n",
    "\n",
    "wks = sh[0]\n",
    "wks.update_row(1,values=header)"
   ]
  },
  {
   "cell_type": "code",
   "execution_count": 7,
   "metadata": {},
   "outputs": [],
   "source": [
    "mal_index = 0\n",
    "spread_index = 2\n",
    "status_error = []"
   ]
  },
  {
   "cell_type": "code",
   "execution_count": 8,
   "metadata": {
    "scrolled": true
   },
   "outputs": [
    {
     "name": "stdout",
     "output_type": "stream",
     "text": [
      "1 200\n",
      "2 1 404\n",
      "3 2 404\n",
      "4 3 404\n",
      "5 200\n",
      "6 200\n",
      "7 200\n",
      "8 200\n",
      "9 1 404\n"
     ]
    },
    {
     "ename": "KeyboardInterrupt",
     "evalue": "",
     "output_type": "error",
     "traceback": [
      "\u001b[1;31m---------------------------------------------------------------------------\u001b[0m",
      "\u001b[1;31mKeyboardInterrupt\u001b[0m                         Traceback (most recent call last)",
      "\u001b[1;32m<ipython-input-8-0b34de5d6822>\u001b[0m in \u001b[0;36m<module>\u001b[1;34m\u001b[0m\n\u001b[0;32m     39\u001b[0m         \u001b[1;32mcontinue\u001b[0m\u001b[1;33m\u001b[0m\u001b[0m\n\u001b[0;32m     40\u001b[0m     \u001b[0mprint\u001b[0m\u001b[1;33m(\u001b[0m\u001b[0mstatus\u001b[0m\u001b[1;33m)\u001b[0m\u001b[1;33m\u001b[0m\u001b[0m\n\u001b[1;32m---> 41\u001b[1;33m     \u001b[0mtime\u001b[0m\u001b[1;33m.\u001b[0m\u001b[0msleep\u001b[0m\u001b[1;33m(\u001b[0m\u001b[1;36m1\u001b[0m\u001b[1;33m)\u001b[0m\u001b[1;33m\u001b[0m\u001b[0m\n\u001b[0m",
      "\u001b[1;31mKeyboardInterrupt\u001b[0m: "
     ]
    }
   ],
   "source": [
    "while len(status_error) < 100:\n",
    "    mal_index += 1\n",
    "    url = \"https://api.jikan.moe/v3/anime/{}\".format(mal_index)\n",
    "    response = requests.get(url)\n",
    "    print(mal_index, end=\" \")\n",
    "    # Print the status code of the response.\n",
    "    status = response.status_code\n",
    "    \n",
    "    if status == 200:\n",
    "        data = response.json()\n",
    "        \n",
    "        producers = \"\"\n",
    "        for i in data['producers']:\n",
    "            producers += \"{}, \".format(i['mal_id'])\n",
    "            \n",
    "        licensors = \"\"\n",
    "        for i in data['licensors']:\n",
    "            licensors += \"{}, \".format(i['mal_id'])\n",
    "            \n",
    "        studios = \"\"\n",
    "        for i in data['studios']:\n",
    "            studios += \"{}, \".format(i['mal_id'])\n",
    "            \n",
    "        genres = \"\"\n",
    "        for i in data['genres']:\n",
    "            genres += \"{}, \".format(i['mal_id'])\n",
    "            \n",
    "        info = [data['title'],data['type'],genres,data['duration'],data['source'], producers, studios,data['score']]\n",
    "        \n",
    "        wks.update_row(spread_index,values=info)\n",
    "        spread_index += 1\n",
    "        \n",
    "        print(spread_index, end=\" \")\n",
    "        status_error = []\n",
    "    elif status == 404:\n",
    "        status_error.append(status)\n",
    "        print(len(status_error), end=\" \")\n",
    "    elif status == 429:\n",
    "        mal_index -= 1\n",
    "        time.sleep(0.5)\n",
    "        continue\n",
    "    print(status)\n",
    "    time.sleep(1)"
   ]
  }
 ],
 "metadata": {
  "kernelspec": {
   "display_name": "Python 3",
   "language": "python",
   "name": "python3"
  },
  "language_info": {
   "codemirror_mode": {
    "name": "ipython",
    "version": 3
   },
   "file_extension": ".py",
   "mimetype": "text/x-python",
   "name": "python",
   "nbconvert_exporter": "python",
   "pygments_lexer": "ipython3",
   "version": "3.6.0"
  }
 },
 "nbformat": 4,
 "nbformat_minor": 2
}
